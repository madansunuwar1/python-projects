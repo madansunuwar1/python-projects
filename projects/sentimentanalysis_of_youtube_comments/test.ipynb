{
 "cells": [
  {
   "cell_type": "code",
   "execution_count": 2,
   "metadata": {},
   "outputs": [],
   "source": [
    "\n",
    "\n",
    "import pandas as pd\n",
    "\n",
    "df = pd.read_csv(\"C:\\\\Users\\\\Madan\\\\Desktop\\\\projects\\\\sentimentanalysis\\\\clean_comments\\\\traindata\\\\traindata.csv\", index_col=[0])\n",
    "\n",
    "df = df.reset_index(drop=True)\n",
    "df.to_csv(\"C:\\\\Users\\\\Madan\\\\Desktop\\\\projects\\\\sentimentanalysis\\\\clean_comments\\\\traindata\\\\traindata.csv\")\n",
    "\n",
    "\n"
   ]
  },
  {
   "cell_type": "code",
   "execution_count": 3,
   "metadata": {},
   "outputs": [
    {
     "data": {
      "text/html": [
       "<div>\n",
       "<style scoped>\n",
       "    .dataframe tbody tr th:only-of-type {\n",
       "        vertical-align: middle;\n",
       "    }\n",
       "\n",
       "    .dataframe tbody tr th {\n",
       "        vertical-align: top;\n",
       "    }\n",
       "\n",
       "    .dataframe thead th {\n",
       "        text-align: right;\n",
       "    }\n",
       "</style>\n",
       "<table border=\"1\" class=\"dataframe\">\n",
       "  <thead>\n",
       "    <tr style=\"text-align: right;\">\n",
       "      <th></th>\n",
       "      <th>index</th>\n",
       "      <th>sent=positive</th>\n",
       "      <th>sent=negative</th>\n",
       "    </tr>\n",
       "  </thead>\n",
       "  <tbody>\n",
       "    <tr>\n",
       "      <th>0</th>\n",
       "      <td>im</td>\n",
       "      <td>0.006210</td>\n",
       "      <td>9.805512e-04</td>\n",
       "    </tr>\n",
       "    <tr>\n",
       "      <th>1</th>\n",
       "      <td>go</td>\n",
       "      <td>0.022178</td>\n",
       "      <td>8.334684e-03</td>\n",
       "    </tr>\n",
       "    <tr>\n",
       "      <th>2</th>\n",
       "      <td>say</td>\n",
       "      <td>0.009758</td>\n",
       "      <td>5.883306e-03</td>\n",
       "    </tr>\n",
       "    <tr>\n",
       "      <th>3</th>\n",
       "      <td>never</td>\n",
       "      <td>0.006653</td>\n",
       "      <td>1.160319e-02</td>\n",
       "    </tr>\n",
       "    <tr>\n",
       "      <th>4</th>\n",
       "      <td>imagine</td>\n",
       "      <td>0.002218</td>\n",
       "      <td>4.902757e-04</td>\n",
       "    </tr>\n",
       "    <tr>\n",
       "      <th>...</th>\n",
       "      <td>...</td>\n",
       "      <td>...</td>\n",
       "      <td>...</td>\n",
       "    </tr>\n",
       "    <tr>\n",
       "      <th>8512</th>\n",
       "      <td>smooth</td>\n",
       "      <td>0.001552</td>\n",
       "      <td>1.634252e-10</td>\n",
       "    </tr>\n",
       "    <tr>\n",
       "      <th>8513</th>\n",
       "      <td>bhutanese</td>\n",
       "      <td>0.000222</td>\n",
       "      <td>1.634252e-10</td>\n",
       "    </tr>\n",
       "    <tr>\n",
       "      <th>8514</th>\n",
       "      <td>affert</td>\n",
       "      <td>0.000222</td>\n",
       "      <td>1.634252e-10</td>\n",
       "    </tr>\n",
       "    <tr>\n",
       "      <th>8515</th>\n",
       "      <td>hinda</td>\n",
       "      <td>0.000222</td>\n",
       "      <td>1.634252e-10</td>\n",
       "    </tr>\n",
       "    <tr>\n",
       "      <th>8516</th>\n",
       "      <td>kehe</td>\n",
       "      <td>0.000222</td>\n",
       "      <td>1.634252e-10</td>\n",
       "    </tr>\n",
       "  </tbody>\n",
       "</table>\n",
       "<p>8517 rows × 3 columns</p>\n",
       "</div>"
      ],
      "text/plain": [
       "          index  sent=positive  sent=negative\n",
       "0            im       0.006210   9.805512e-04\n",
       "1            go       0.022178   8.334684e-03\n",
       "2           say       0.009758   5.883306e-03\n",
       "3         never       0.006653   1.160319e-02\n",
       "4       imagine       0.002218   4.902757e-04\n",
       "...         ...            ...            ...\n",
       "8512     smooth       0.001552   1.634252e-10\n",
       "8513  bhutanese       0.000222   1.634252e-10\n",
       "8514     affert       0.000222   1.634252e-10\n",
       "8515      hinda       0.000222   1.634252e-10\n",
       "8516       kehe       0.000222   1.634252e-10\n",
       "\n",
       "[8517 rows x 3 columns]"
      ]
     },
     "execution_count": 3,
     "metadata": {},
     "output_type": "execute_result"
    }
   ],
   "source": [
    "import pickle\n",
    "prior_pos = pickle.load(open('prior_pos.pkl','rb'))\n",
    "\n",
    "bag = pickle.load(open('bag.pkl','rb'))\n",
    "bag\n"
   ]
  },
  {
   "cell_type": "code",
   "execution_count": null,
   "metadata": {},
   "outputs": [],
   "source": []
  }
 ],
 "metadata": {
  "kernelspec": {
   "display_name": "base",
   "language": "python",
   "name": "python3"
  },
  "language_info": {
   "codemirror_mode": {
    "name": "ipython",
    "version": 3
   },
   "file_extension": ".py",
   "mimetype": "text/x-python",
   "name": "python",
   "nbconvert_exporter": "python",
   "pygments_lexer": "ipython3",
   "version": "3.11.1"
  },
  "orig_nbformat": 4,
  "vscode": {
   "interpreter": {
    "hash": "7b9de5f633baef838eda09087c377b407887e2414fdad0aa392eeb39aea32887"
   }
  }
 },
 "nbformat": 4,
 "nbformat_minor": 2
}
